{
  "nbformat": 4,
  "nbformat_minor": 0,
  "metadata": {
    "colab": {
      "name": "Web Scraping with Beautiful Soup.ipynb",
      "provenance": [],
      "collapsed_sections": []
    },
    "kernelspec": {
      "display_name": "Python 3",
      "language": "python",
      "name": "python3"
    },
    "language_info": {
      "codemirror_mode": {
        "name": "ipython",
        "version": 3
      },
      "file_extension": ".py",
      "mimetype": "text/x-python",
      "name": "python",
      "nbconvert_exporter": "python",
      "pygments_lexer": "ipython3",
      "version": "3.8.8"
    }
  },
  "cells": [
    {
      "cell_type": "markdown",
      "metadata": {
        "id": "CVGkG4Qqc8Kb"
      },
      "source": [
        "# IMDB - Web Scraping with Beautiful Soup"
      ]
    },
    {
      "cell_type": "markdown",
      "metadata": {
        "id": "WF5DHk-p8xgS"
      },
      "source": [
        "### Step 1: Import Libraries"
      ]
    },
    {
      "cell_type": "code",
      "metadata": {
        "id": "nPFn9VCjCPJ3"
      },
      "source": [
        "from bs4 import BeautifulSoup # For parsing the HTML page\n",
        "import pandas as pd # Data Manipulation and export\n",
        "from requests import get # Request URL to access content"
      ],
      "execution_count": 16,
      "outputs": []
    },
    {
      "cell_type": "markdown",
      "metadata": {
        "id": "koNNCLPF8xgY"
      },
      "source": [
        "### Step 2: Create a variable url which contains the link"
      ]
    },
    {
      "cell_type": "code",
      "metadata": {
        "id": "ilKlOIR_8xga"
      },
      "source": [
        "#Enter any year above and including 2000\n",
        "year = '2020'\n",
        "url = 'http://www.imdb.com/search/title?release_date='+year+'&sort=num_votes,desc&page=1'\n",
        "response = get(url)"
      ],
      "execution_count": 17,
      "outputs": []
    },
    {
      "cell_type": "markdown",
      "metadata": {
        "id": "hljWAQdT8xga"
      },
      "source": [
        " ### Step 3: Print the response"
      ]
    },
    {
      "cell_type": "code",
      "metadata": {
        "id": "yrAs333m8xgb",
        "colab": {
          "base_uri": "https://localhost:8080/"
        },
        "outputId": "62611504-cbb4-44f3-f2a9-942a2e17d6b1"
      },
      "source": [
        "print(response.text[:500])"
      ],
      "execution_count": 18,
      "outputs": [
        {
          "output_type": "stream",
          "name": "stdout",
          "text": [
            "\n",
            "\n",
            "<!DOCTYPE html>\n",
            "<html\n",
            "    xmlns:og=\"http://ogp.me/ns#\"\n",
            "    xmlns:fb=\"http://www.facebook.com/2008/fbml\">\n",
            "    <head>\n",
            "         \n",
            "\n",
            "        <meta charset=\"utf-8\">\n",
            "        <meta http-equiv=\"X-UA-Compatible\" content=\"IE=edge\">\n",
            "\n",
            "\n",
            "\n",
            "\n",
            "        <script type=\"text/javascript\">var IMDbTimer={starttime: new Date().getTime(),pt:'java'};</script>\n",
            "\n",
            "<script>\n",
            "    if (typeof uet == 'function') {\n",
            "      uet(\"bb\", \"LoadTitle\", {wb: 1});\n",
            "    }\n",
            "</script>\n",
            "  <script>(function(t){ (t.events = t.events || {})[\"csm_head_pre_\n"
          ]
        }
      ]
    },
    {
      "cell_type": "markdown",
      "metadata": {
        "id": "5JR76URY8xgj"
      },
      "source": [
        " ### Step 3: Use Beautiful Soup to parse the data"
      ]
    },
    {
      "cell_type": "code",
      "metadata": {
        "id": "0jlYZaxLCVKb"
      },
      "source": [
        "html_soup = BeautifulSoup(response.text, 'html.parser')"
      ],
      "execution_count": 19,
      "outputs": []
    },
    {
      "cell_type": "code",
      "metadata": {
        "id": "vMFfoncKvVum"
      },
      "source": [
        "movie_containers = html_soup.find_all('div', class_ = 'lister-item mode-advanced')"
      ],
      "execution_count": 20,
      "outputs": []
    },
    {
      "cell_type": "code",
      "metadata": {
        "id": "ECIJJ5u4vc7D"
      },
      "source": [
        "first_movie = movie_containers[0]"
      ],
      "execution_count": 21,
      "outputs": []
    },
    {
      "cell_type": "markdown",
      "metadata": {
        "id": "lpgRoZHzv5RQ",
        "outputId": "b23442dc-aecf-4df4-d0ff-5a57cb777b4d"
      },
      "source": [
        "### Step 4: Initiliaze the lists"
      ]
    },
    {
      "cell_type": "code",
      "metadata": {
        "id": "6aABEZRCwGSz"
      },
      "source": [
        "names = []\n",
        "years = []\n",
        "imdb_ratings = []\n",
        "votes = []"
      ],
      "execution_count": 22,
      "outputs": []
    },
    {
      "cell_type": "markdown",
      "metadata": {
        "id": "ZoTnMaNQ8xgt"
      },
      "source": [
        "### Step 5: Start storing the data"
      ]
    },
    {
      "cell_type": "code",
      "metadata": {
        "id": "pg3o3VjT8xgu"
      },
      "source": [
        "for countainer in movie_containers:\n",
        "    name = countainer.h3.a.text\n",
        "    names.append(name)\n",
        "    year = countainer.h3.find('span', class_ = 'lister-item-year text-muted unbold').text\n",
        "    start_year = year.find('2')\n",
        "    years.append(year[start_year:start_year+4])\n",
        "    imdb_rating = float(countainer.strong.text)\n",
        "    imdb_ratings.append(imdb_rating)\n",
        "    vote = int(countainer.find('span', attrs = {'name':'nv'})['data-value'])\n",
        "    votes.append(vote)"
      ],
      "execution_count": 23,
      "outputs": []
    },
    {
      "cell_type": "markdown",
      "metadata": {
        "id": "DpCDYFkq8xgv"
      },
      "source": [
        "### Step 6: Verify the stored data"
      ]
    },
    {
      "cell_type": "code",
      "metadata": {
        "id": "wkNcI8AI8xgw",
        "colab": {
          "base_uri": "https://localhost:8080/"
        },
        "outputId": "0f1d7e35-7f99-41c2-fda7-37b5ad4119bb"
      },
      "source": [
        "print(names)\n",
        "print(years)\n",
        "print(imdb_ratings)\n",
        "print(votes)    "
      ],
      "execution_count": 24,
      "outputs": [
        {
          "output_type": "stream",
          "name": "stdout",
          "text": [
            "['Tenet', \"The Queen's Gambit\", 'Soul', 'Wonder Woman 1984', 'Birds of Prey', 'The Invisible Man', 'Extraction', 'A Quiet Place Part II', 'The Trial of the Chicago 7', 'Enola Holmes', 'The Old Guard', 'Bad Boys for Life', 'Mulan', 'Promising Young Woman', 'Palm Springs', 'Scam 1992: The Harshad Mehta Story', 'Nomadland', 'Borat Subsequent Moviefilm', 'Ted Lasso', 'Onward', 'Dil Bechara', 'I Care a Lot', 'Another Round', 'The Devil All the Time', 'Love and Monsters', 'Sonic the Hedgehog', 'The Father', 'Greenland', 'The Last Dance', 'Sadak 2', 'Soorarai Pottru', 'The Hunt', 'Bridgerton', 'The Haunting of Bly Manor', 'Eurovision Song Contest: The Story of Fire Saga', 'Greyhound', 'Spenser Confidential', 'Project Power', 'Dara of Jasenovac', 'The Undoing', 'The Midnight Sky', 'News of the World', 'Hamilton', 'The Social Dilemma', \"I'm Thinking of Ending Things\", 'Underwater', 'Tiger King', 'The Outsider', 'Coolie No. 1', 'Bloodshot']\n",
            "['2020', '2020', '2020', '2020', '2020', '2020', '2020', '2020', '2020', '2020', '2020', '2020', '2020', '2020', '2020', '2020', '2020', '2020', '2020', '2020', '2020', '2020', '2020', '2020', '2020', '2020', '2020', '2020', '2020', '2020', '2020', '2020', '2020', '2020', '2020', '2020', '2020', '2020', '2020', '2020', '2020', '2020', '2020', '2020', '2020', '2020', '2020', '2020', '2020', '2020']\n",
            "[7.4, 8.6, 8.1, 5.4, 6.1, 7.1, 6.7, 7.3, 7.8, 6.6, 6.7, 6.6, 5.7, 7.5, 7.4, 9.5, 7.4, 6.6, 8.8, 7.4, 8.2, 6.3, 7.8, 7.1, 7.0, 6.5, 8.3, 6.4, 9.1, 1.1, 9.1, 6.5, 7.3, 7.4, 6.5, 7.0, 6.2, 6.0, 8.8, 7.4, 5.6, 6.8, 8.4, 7.6, 6.6, 5.8, 7.5, 7.7, 4.2, 5.7]\n",
            "[432810, 361473, 283259, 235966, 212769, 196786, 181795, 171512, 160407, 151170, 147847, 145684, 137262, 136373, 134836, 132620, 131842, 131261, 128542, 127896, 124964, 116871, 115615, 114765, 110624, 107804, 104424, 101759, 98935, 93077, 91775, 91075, 90634, 87276, 86772, 84853, 80545, 80521, 79722, 78981, 78415, 77196, 75821, 75511, 75067, 73184, 72441, 72370, 72311, 71137]\n"
          ]
        }
      ]
    },
    {
      "cell_type": "markdown",
      "metadata": {
        "id": "iGz0u-IR8xgx"
      },
      "source": [
        "### Step 7: Store the data"
      ]
    },
    {
      "cell_type": "code",
      "metadata": {
        "id": "o6FFgVhM0Pkm"
      },
      "source": [
        "\n",
        "df = pd.DataFrame({'Name':names, 'Year':years, 'Rating':imdb_ratings, 'Vote':votes})\n",
        "df.to_excel('movies of '+year+'.xlsx', index=False, encoding='utf-8')"
      ],
      "execution_count": 25,
      "outputs": []
    },
    {
      "cell_type": "markdown",
      "metadata": {
        "id": "NoKOrysN8xg0"
      },
      "source": [
        "### Step 8: Check the final output"
      ]
    },
    {
      "cell_type": "code",
      "metadata": {
        "id": "_47dF-Dr0RWf",
        "colab": {
          "base_uri": "https://localhost:8080/",
          "height": 204
        },
        "outputId": "6c3e4825-272a-4a44-f7d2-1d98419a5506"
      },
      "source": [
        "df.head()"
      ],
      "execution_count": 26,
      "outputs": [
        {
          "output_type": "execute_result",
          "data": {
            "text/html": [
              "<div>\n",
              "<style scoped>\n",
              "    .dataframe tbody tr th:only-of-type {\n",
              "        vertical-align: middle;\n",
              "    }\n",
              "\n",
              "    .dataframe tbody tr th {\n",
              "        vertical-align: top;\n",
              "    }\n",
              "\n",
              "    .dataframe thead th {\n",
              "        text-align: right;\n",
              "    }\n",
              "</style>\n",
              "<table border=\"1\" class=\"dataframe\">\n",
              "  <thead>\n",
              "    <tr style=\"text-align: right;\">\n",
              "      <th></th>\n",
              "      <th>Name</th>\n",
              "      <th>Year</th>\n",
              "      <th>Rating</th>\n",
              "      <th>Vote</th>\n",
              "    </tr>\n",
              "  </thead>\n",
              "  <tbody>\n",
              "    <tr>\n",
              "      <th>0</th>\n",
              "      <td>Tenet</td>\n",
              "      <td>2020</td>\n",
              "      <td>7.4</td>\n",
              "      <td>432810</td>\n",
              "    </tr>\n",
              "    <tr>\n",
              "      <th>1</th>\n",
              "      <td>The Queen's Gambit</td>\n",
              "      <td>2020</td>\n",
              "      <td>8.6</td>\n",
              "      <td>361473</td>\n",
              "    </tr>\n",
              "    <tr>\n",
              "      <th>2</th>\n",
              "      <td>Soul</td>\n",
              "      <td>2020</td>\n",
              "      <td>8.1</td>\n",
              "      <td>283259</td>\n",
              "    </tr>\n",
              "    <tr>\n",
              "      <th>3</th>\n",
              "      <td>Wonder Woman 1984</td>\n",
              "      <td>2020</td>\n",
              "      <td>5.4</td>\n",
              "      <td>235966</td>\n",
              "    </tr>\n",
              "    <tr>\n",
              "      <th>4</th>\n",
              "      <td>Birds of Prey</td>\n",
              "      <td>2020</td>\n",
              "      <td>6.1</td>\n",
              "      <td>212769</td>\n",
              "    </tr>\n",
              "  </tbody>\n",
              "</table>\n",
              "</div>"
            ],
            "text/plain": [
              "                 Name  Year  Rating    Vote\n",
              "0               Tenet  2020     7.4  432810\n",
              "1  The Queen's Gambit  2020     8.6  361473\n",
              "2                Soul  2020     8.1  283259\n",
              "3   Wonder Woman 1984  2020     5.4  235966\n",
              "4       Birds of Prey  2020     6.1  212769"
            ]
          },
          "metadata": {},
          "execution_count": 26
        }
      ]
    },
    {
      "cell_type": "code",
      "metadata": {
        "id": "B6al-NLA8xg2"
      },
      "source": [
        ""
      ],
      "execution_count": 26,
      "outputs": []
    }
  ]
}