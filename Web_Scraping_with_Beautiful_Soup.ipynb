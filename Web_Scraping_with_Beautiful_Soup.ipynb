{
  "nbformat": 4,
  "nbformat_minor": 0,
  "metadata": {
    "colab": {
      "name": "Web Scraping with Beautiful Soup.ipynb",
      "provenance": [],
      "collapsed_sections": []
    },
    "kernelspec": {
      "display_name": "Python 3",
      "language": "python",
      "name": "python3"
    },
    "language_info": {
      "codemirror_mode": {
        "name": "ipython",
        "version": 3
      },
      "file_extension": ".py",
      "mimetype": "text/x-python",
      "name": "python",
      "nbconvert_exporter": "python",
      "pygments_lexer": "ipython3",
      "version": "3.8.8"
    }
  },
  "cells": [
    {
      "cell_type": "markdown",
      "metadata": {
        "id": "CVGkG4Qqc8Kb"
      },
      "source": [
        "# IMDB - Web Scraping with Beautiful Soup"
      ]
    },
    {
      "cell_type": "markdown",
      "metadata": {
        "id": "WF5DHk-p8xgS"
      },
      "source": [
        "### Step 1: Import Libraries"
      ]
    },
    {
      "cell_type": "code",
      "metadata": {
        "id": "nPFn9VCjCPJ3"
      },
      "source": [
        "from bs4 import BeautifulSoup # For extracting the data from the HTML page\n",
        "import pandas as pd # Data Manipulation and export\n",
        "from requests import get # Request URL to access content"
      ],
      "execution_count": 1,
      "outputs": []
    },
    {
      "cell_type": "markdown",
      "metadata": {
        "id": "koNNCLPF8xgY"
      },
      "source": [
        "### Step 2: Create a variable url which contains the link"
      ]
    },
    {
      "cell_type": "code",
      "metadata": {
        "id": "ilKlOIR_8xga"
      },
      "source": [
        "#Enter any year:\n",
        "year = '2000'\n",
        "url = 'http://www.imdb.com/search/title?release_date='+year+'&sort=num_votes,desc&page=1'\n",
        "response = get(url)"
      ],
      "execution_count": 2,
      "outputs": []
    },
    {
      "cell_type": "markdown",
      "metadata": {
        "id": "hljWAQdT8xga"
      },
      "source": [
        " ### Step 3: Print the response"
      ]
    },
    {
      "cell_type": "code",
      "metadata": {
        "colab": {
          "base_uri": "https://localhost:8080/"
        },
        "id": "yrAs333m8xgb",
        "outputId": "d7152d5a-b733-498c-86dc-e6ed258c8390"
      },
      "source": [
        "print(response.text[:500])"
      ],
      "execution_count": 3,
      "outputs": [
        {
          "output_type": "stream",
          "name": "stdout",
          "text": [
            "\n",
            "\n",
            "<!DOCTYPE html>\n",
            "<html\n",
            "    xmlns:og=\"http://ogp.me/ns#\"\n",
            "    xmlns:fb=\"http://www.facebook.com/2008/fbml\">\n",
            "    <head>\n",
            "         \n",
            "\n",
            "        <meta charset=\"utf-8\">\n",
            "        <meta http-equiv=\"X-UA-Compatible\" content=\"IE=edge\">\n",
            "\n",
            "\n",
            "\n",
            "\n",
            "        <script type=\"text/javascript\">var IMDbTimer={starttime: new Date().getTime(),pt:'java'};</script>\n",
            "\n",
            "<script>\n",
            "    if (typeof uet == 'function') {\n",
            "      uet(\"bb\", \"LoadTitle\", {wb: 1});\n",
            "    }\n",
            "</script>\n",
            "  <script>(function(t){ (t.events = t.events || {})[\"csm_head_pre_\n"
          ]
        }
      ]
    },
    {
      "cell_type": "markdown",
      "metadata": {
        "id": "5JR76URY8xgj"
      },
      "source": [
        " ### Step 3: Use Beautiful Soup to parse the data"
      ]
    },
    {
      "cell_type": "code",
      "metadata": {
        "id": "0jlYZaxLCVKb"
      },
      "source": [
        "html_soup = BeautifulSoup(response.text, 'html.parser')"
      ],
      "execution_count": 4,
      "outputs": []
    },
    {
      "cell_type": "code",
      "metadata": {
        "id": "vMFfoncKvVum"
      },
      "source": [
        "movie_containers = html_soup.find_all('div', class_ = 'lister-item mode-advanced')"
      ],
      "execution_count": 5,
      "outputs": []
    },
    {
      "cell_type": "markdown",
      "metadata": {
        "id": "lpgRoZHzv5RQ",
        "outputId": "b23442dc-aecf-4df4-d0ff-5a57cb777b4d"
      },
      "source": [
        "### Step 4: Initiliaze the lists"
      ]
    },
    {
      "cell_type": "code",
      "metadata": {
        "id": "6aABEZRCwGSz"
      },
      "source": [
        "names = []\n",
        "imdb_ratings = []\n",
        "votes = []\n",
        "runtimes = []\n",
        "genres = []"
      ],
      "execution_count": 6,
      "outputs": []
    },
    {
      "cell_type": "markdown",
      "metadata": {
        "id": "ZoTnMaNQ8xgt"
      },
      "source": [
        "### Step 5: Start storing the data"
      ]
    },
    {
      "cell_type": "code",
      "metadata": {
        "id": "pg3o3VjT8xgu"
      },
      "source": [
        "for countainer in movie_containers:\n",
        "    name = countainer.h3.a.text\n",
        "    names.append(name)\n",
        "    imdb_rating = float(countainer.strong.text)\n",
        "    imdb_ratings.append(imdb_rating)\n",
        "    vote = int(countainer.find('span', attrs = {'name':'nv'})['data-value'])\n",
        "    votes.append(vote)\n",
        "    runtime = countainer.find('span', attrs = {'class':'runtime'}).text\n",
        "    runtimes.append(runtime)\n",
        "    genre = (countainer.find('span', attrs = {'class':'genre'})).text.strip()\n",
        "    genres.append(genre)"
      ],
      "execution_count": 7,
      "outputs": []
    },
    {
      "cell_type": "markdown",
      "metadata": {
        "id": "DpCDYFkq8xgv"
      },
      "source": [
        "### Step 6: Verify the stored data"
      ]
    },
    {
      "cell_type": "code",
      "metadata": {
        "colab": {
          "base_uri": "https://localhost:8080/"
        },
        "id": "wkNcI8AI8xgw",
        "outputId": "4b67e440-48c8-4dac-be18-a562e6a89b92"
      },
      "source": [
        "print(names)\n",
        "print(imdb_ratings)\n",
        "print(votes)\n",
        "print(runtimes)\n",
        "print(genres)    "
      ],
      "execution_count": 8,
      "outputs": [
        {
          "output_type": "stream",
          "name": "stdout",
          "text": [
            "['Gladiator', 'Memento', 'Snatch', 'Requiem for a Dream', 'X-Men', 'Cast Away', 'American Psycho', 'Unbreakable', 'Mission: Impossible II', 'Meet the Parents', 'O Brother, Where Art Thou?', 'Gone in 60 Seconds', 'Almost Famous', 'The Patriot', 'Crouching Tiger, Hidden Dragon', 'Scary Movie', 'Final Destination', 'Amores perros', 'Pitch Black', 'The Beach', 'Me, Myself & Irene', 'How the Grinch Stole Christmas', 'Remember the Titans', 'Traffic', 'What Women Want', 'Miss Congeniality', \"The Emperor's New Groove\", 'Erin Brockovich', 'Chocolat', 'Chicken Run', \"Charlie's Angels\", 'Battle Royale', 'High Fidelity', 'Road Trip', 'The Perfect Storm', 'In the Mood for Love', \"Dude, Where's My Car?\", 'Billy Elliot', 'Scream 3', 'Hollow Man', 'Malcolm in the Middle', 'Shanghai Noon', 'What Lies Beneath', 'The 6th Day', 'The Whole Nine Yards', 'Pay It Forward', 'Curb Your Enthusiasm', 'Men of Honor', 'Gilmore Girls', 'Coyote Ugly']\n",
            "[8.5, 8.4, 8.3, 8.3, 7.4, 7.8, 7.6, 7.3, 6.1, 7.0, 7.7, 6.5, 7.9, 7.2, 7.8, 6.2, 6.7, 8.1, 7.1, 6.7, 6.6, 6.2, 7.8, 7.6, 6.4, 6.3, 7.4, 7.4, 7.2, 7.0, 5.6, 7.6, 7.5, 6.4, 6.4, 8.1, 5.5, 7.7, 5.6, 5.8, 8.0, 6.6, 6.6, 5.9, 6.7, 7.2, 8.7, 7.2, 8.2, 5.7]\n",
            "[1413099, 1178342, 818052, 801541, 591498, 558764, 534838, 403468, 327682, 322502, 300065, 269603, 266748, 264380, 262102, 247984, 242822, 233356, 232773, 231638, 231081, 224502, 206490, 202787, 201647, 198744, 191955, 188238, 185211, 184447, 183045, 177678, 174833, 164331, 162595, 138873, 137678, 131309, 130991, 128058, 124205, 124057, 122543, 119527, 117266, 116995, 115090, 113102, 112147, 111320]\n",
            "['155 min', '113 min', '102 min', '102 min', '104 min', '143 min', '101 min', '106 min', '123 min', '108 min', '107 min', '118 min', '122 min', '165 min', '120 min', '88 min', '98 min', '154 min', '109 min', '119 min', '116 min', '104 min', '113 min', '147 min', '127 min', '109 min', '78 min', '131 min', '121 min', '84 min', '98 min', '114 min', '113 min', '93 min', '130 min', '98 min', '83 min', '110 min', '116 min', '112 min', '22 min', '110 min', '130 min', '123 min', '98 min', '123 min', '28 min', '129 min', '44 min', '100 min']\n",
            "['Action, Adventure, Drama', 'Mystery, Thriller', 'Comedy, Crime', 'Drama', 'Action, Adventure, Sci-Fi', 'Adventure, Drama, Romance', 'Crime, Drama, Horror', 'Drama, Mystery, Sci-Fi', 'Action, Adventure, Thriller', 'Comedy, Romance', 'Adventure, Comedy, Crime', 'Action, Crime, Thriller', 'Adventure, Comedy, Drama', 'Action, Drama, History', 'Action, Adventure, Drama', 'Comedy', 'Horror, Thriller', 'Drama, Thriller', 'Action, Horror, Sci-Fi', 'Adventure, Drama, Romance', 'Comedy', 'Comedy, Family, Fantasy', 'Biography, Drama, Sport', 'Crime, Drama, Thriller', 'Comedy, Fantasy, Romance', 'Action, Comedy, Crime', 'Animation, Adventure, Comedy', 'Biography, Drama', 'Drama, Romance', 'Animation, Adventure, Comedy', 'Action, Adventure, Comedy', 'Action, Adventure, Drama', 'Comedy, Drama, Music', 'Comedy', 'Action, Adventure, Drama', 'Drama, Romance', 'Comedy, Mystery, Sci-Fi', 'Drama, Music', 'Horror, Mystery', 'Action, Horror, Sci-Fi', 'Comedy, Family', 'Action, Adventure, Comedy', 'Drama, Horror, Mystery', 'Action, Mystery, Sci-Fi', 'Comedy, Crime', 'Drama', 'Comedy', 'Biography, Drama', 'Comedy, Drama', 'Comedy, Drama, Music']\n"
          ]
        }
      ]
    },
    {
      "cell_type": "markdown",
      "metadata": {
        "id": "iGz0u-IR8xgx"
      },
      "source": [
        "### Step 7: Store the data"
      ]
    },
    {
      "cell_type": "code",
      "metadata": {
        "id": "o6FFgVhM0Pkm"
      },
      "source": [
        "df = pd.DataFrame({'Name':names, 'Rating':imdb_ratings, 'Runtime':runtimes, 'Vote':votes, 'Genre':genres})\n",
        "df.to_excel('Watchlist of '+year+'.xlsx', index=False, encoding='utf-8')"
      ],
      "execution_count": 9,
      "outputs": []
    },
    {
      "cell_type": "markdown",
      "metadata": {
        "id": "NoKOrysN8xg0"
      },
      "source": [
        "### Step 8: Check the final output"
      ]
    },
    {
      "cell_type": "code",
      "metadata": {
        "colab": {
          "base_uri": "https://localhost:8080/",
          "height": 206
        },
        "id": "_47dF-Dr0RWf",
        "outputId": "7e83d44a-15e1-41b3-b7d8-ed6c897b79d5"
      },
      "source": [
        "df.head()"
      ],
      "execution_count": 10,
      "outputs": [
        {
          "output_type": "execute_result",
          "data": {
            "text/html": [
              "<div>\n",
              "<style scoped>\n",
              "    .dataframe tbody tr th:only-of-type {\n",
              "        vertical-align: middle;\n",
              "    }\n",
              "\n",
              "    .dataframe tbody tr th {\n",
              "        vertical-align: top;\n",
              "    }\n",
              "\n",
              "    .dataframe thead th {\n",
              "        text-align: right;\n",
              "    }\n",
              "</style>\n",
              "<table border=\"1\" class=\"dataframe\">\n",
              "  <thead>\n",
              "    <tr style=\"text-align: right;\">\n",
              "      <th></th>\n",
              "      <th>Name</th>\n",
              "      <th>Rating</th>\n",
              "      <th>Runtime</th>\n",
              "      <th>Vote</th>\n",
              "      <th>Genre</th>\n",
              "    </tr>\n",
              "  </thead>\n",
              "  <tbody>\n",
              "    <tr>\n",
              "      <th>0</th>\n",
              "      <td>Gladiator</td>\n",
              "      <td>8.5</td>\n",
              "      <td>155 min</td>\n",
              "      <td>1413099</td>\n",
              "      <td>Action, Adventure, Drama</td>\n",
              "    </tr>\n",
              "    <tr>\n",
              "      <th>1</th>\n",
              "      <td>Memento</td>\n",
              "      <td>8.4</td>\n",
              "      <td>113 min</td>\n",
              "      <td>1178342</td>\n",
              "      <td>Mystery, Thriller</td>\n",
              "    </tr>\n",
              "    <tr>\n",
              "      <th>2</th>\n",
              "      <td>Snatch</td>\n",
              "      <td>8.3</td>\n",
              "      <td>102 min</td>\n",
              "      <td>818052</td>\n",
              "      <td>Comedy, Crime</td>\n",
              "    </tr>\n",
              "    <tr>\n",
              "      <th>3</th>\n",
              "      <td>Requiem for a Dream</td>\n",
              "      <td>8.3</td>\n",
              "      <td>102 min</td>\n",
              "      <td>801541</td>\n",
              "      <td>Drama</td>\n",
              "    </tr>\n",
              "    <tr>\n",
              "      <th>4</th>\n",
              "      <td>X-Men</td>\n",
              "      <td>7.4</td>\n",
              "      <td>104 min</td>\n",
              "      <td>591498</td>\n",
              "      <td>Action, Adventure, Sci-Fi</td>\n",
              "    </tr>\n",
              "  </tbody>\n",
              "</table>\n",
              "</div>"
            ],
            "text/plain": [
              "                  Name  Rating  Runtime     Vote                      Genre\n",
              "0            Gladiator     8.5  155 min  1413099   Action, Adventure, Drama\n",
              "1              Memento     8.4  113 min  1178342          Mystery, Thriller\n",
              "2               Snatch     8.3  102 min   818052              Comedy, Crime\n",
              "3  Requiem for a Dream     8.3  102 min   801541                      Drama\n",
              "4                X-Men     7.4  104 min   591498  Action, Adventure, Sci-Fi"
            ]
          },
          "metadata": {},
          "execution_count": 10
        }
      ]
    },
    {
      "cell_type": "code",
      "metadata": {
        "id": "B6al-NLA8xg2"
      },
      "source": [
        ""
      ],
      "execution_count": 10,
      "outputs": []
    }
  ]
}